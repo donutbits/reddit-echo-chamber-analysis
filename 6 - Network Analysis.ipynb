{
 "cells": [
  {
   "attachments": {},
   "cell_type": "markdown",
   "metadata": {},
   "source": [
    "# Network Analysis"
   ]
  },
  {
   "cell_type": "code",
   "execution_count": 1,
   "metadata": {},
   "outputs": [],
   "source": [
    "from zst_reader import read_lines_zst, write_line_zst\n",
    "import json"
   ]
  },
  {
   "cell_type": "code",
   "execution_count": 2,
   "metadata": {},
   "outputs": [],
   "source": [
    "subreddits = [\"Conservative\", \"progressive\",\n",
    "              \"democrats\", \"Republican\",\n",
    "              \"NeutralPolitics\", \"PoliticalDiscussion\", \"politics\"]"
   ]
  },
  {
   "cell_type": "code",
   "execution_count": 13,
   "metadata": {},
   "outputs": [],
   "source": [
    "# Function to count the number of submissions per author\n",
    "def count_submissions_per_author(input_path, output_path):\n",
    "\n",
    "    # Initialize the dictionary\n",
    "    author_counts = {}\n",
    "\n",
    "    # Read the data from the zst file\n",
    "    for line, file_bytes_processed in read_lines_zst(input_path):\n",
    "        obj = json.loads(line)\n",
    "\n",
    "        # Get the author\n",
    "        author = obj.get(\"author\", \"\")\n",
    "\n",
    "        # Skip if author is empty or deleted\n",
    "        if author == \"\" or author == \"[deleted]\": continue\n",
    "\n",
    "        # Set values to 0 if they are not a number\n",
    "        try: obj[\"score\"] = int(obj[\"score\"])\n",
    "        except: obj[\"score\"] = 0\n",
    "        try: obj[\"ups\"] = int(obj[\"ups\"])\n",
    "        except: obj[\"ups\"] = 0\n",
    "        try: obj[\"downs\"] = int(obj[\"downs\"])\n",
    "        except: obj[\"downs\"] = 0\n",
    "        try: obj[\"gilded\"] = float(obj[\"gilded\"])\n",
    "        except: obj[\"gilded\"] = 0\n",
    "        try: obj[\"controversiality\"] = int(obj[\"controversiality\"])\n",
    "        except: obj[\"controversiality\"] = 0\n",
    "\n",
    "        # Count comments\n",
    "        if author not in author_counts:\n",
    "            author_counts[author] = {\"comments\": 0, \"submissions\": 0, \"ups\": 0,\n",
    "                                     \"downs\": 0, \"score\": 0, \"gilded\": 0,\n",
    "                                     \"controversiality\": 0}\n",
    "        author_counts[author][\"submissions\"] += 1\n",
    "        author_counts[author][\"ups\"] += obj[\"ups\"]\n",
    "        author_counts[author][\"downs\"] += obj[\"downs\"]\n",
    "        author_counts[author][\"score\"] += obj[\"score\"]\n",
    "        author_counts[author][\"gilded\"] += obj[\"gilded\"]\n",
    "        author_counts[author][\"controversiality\"] += obj[\"controversiality\"]\n",
    "\n",
    "    # Save the data to json file\n",
    "    with open(output_path, mode=\"w\", newline=\"\") as file:\n",
    "        json.dump(author_counts, file)\n",
    "\n",
    "    return"
   ]
  },
  {
   "cell_type": "code",
   "execution_count": 14,
   "metadata": {},
   "outputs": [],
   "source": [
    "# Count the number of posts per author per subreddit\n",
    "for s in subreddits:\n",
    "\n",
    "    input_submission = f\"data/{s}/{s}_submissions_classified.zst\"\n",
    "    output_submission = f\"analysis/network/{s}_author_counts.json\"\n",
    "\n",
    "    count_submissions_per_author(input_submission, output_submission)\n",
    "\n",
    "    "
   ]
  },
  {
   "cell_type": "code",
   "execution_count": 63,
   "metadata": {},
   "outputs": [],
   "source": [
    "# Find the top 50 authors by number of submissions per subreddit\n",
    "top_authors = {}\n",
    "total_submissions = {}\n",
    "for s in subreddits:\n",
    "\n",
    "    submission_count = f\"analysis/network/{s}_author_counts.json\"\n",
    "\n",
    "    with open(submission_count, mode=\"r\", newline=\"\") as file:\n",
    "        author_counts = json.load(file)\n",
    "\n",
    "    # If PoliticsModeratorBot is in the dictionary, remove it\n",
    "    if \"PoliticsModeratorBot\" in author_counts:\n",
    "        del author_counts[\"PoliticsModeratorBot\"]\n",
    "    if \"AutoModerator\" in author_counts:\n",
    "        del author_counts[\"AutoModerator\"]\n",
    "    if \"optimalg\" in author_counts:\n",
    "        del author_counts[\"optimalg\"]\n",
    "    if \"IBiteYou\" in author_counts:\n",
    "        del author_counts[\"IBiteYou\"]\n",
    "        \n",
    "    # Get the total number of submissions\n",
    "    total_submissions[s] = sum([author_counts[author][\"submissions\"] for author in author_counts])\n",
    "    \n",
    "    # Sort the authors by number of submissions\n",
    "    authors_sorted = sorted(author_counts.items(), key=lambda x: x[1][\"submissions\"], reverse=True)\n",
    "\n",
    "    # Get author and number of submissions\n",
    "    authors_sorted = [(author, author_counts[author][\"submissions\"]) for author, _ in authors_sorted]\n",
    "\n",
    "    # Get the top 20 authors\n",
    "    top_authors[s] = authors_sorted[:20]\n"
   ]
  },
  {
   "cell_type": "code",
   "execution_count": 64,
   "metadata": {},
   "outputs": [],
   "source": [
    "import seaborn as sns\n",
    "import matplotlib.pyplot as plt\n",
    "import pandas as pd"
   ]
  },
  {
   "cell_type": "code",
   "execution_count": 65,
   "metadata": {},
   "outputs": [],
   "source": [
    "# For each subreddit, plot the proportion of submissions\n",
    "for s in subreddits:\n",
    "\n",
    "    # Calculate proportion of submissions\n",
    "    df = pd.DataFrame(top_authors[s], columns=[\"author\", \"submissions\"])\n",
    "    df[\"frequency\"] = df[\"submissions\"] / total_submissions[s]\n",
    "\n",
    "    # Plot the proportions. Use a gradient of blue\n",
    "    sns.barplot(x=\"frequency\", y=\"author\", data=df, palette=\"Blues_d\")\n",
    "    plt.xticks(rotation=90)\n",
    "    plt.title(f\"Proportion of submissions by top 20 authors in r\\{s}\")\n",
    "    #plt.show()\n",
    "\n",
    "    # Save the plot\n",
    "    plt.savefig(f\"analysis/network/{s}_top_authors.png\", bbox_inches=\"tight\")\n",
    "    plt.close()"
   ]
  },
  {
   "cell_type": "code",
   "execution_count": null,
   "metadata": {},
   "outputs": [],
   "source": []
  }
 ],
 "metadata": {
  "kernelspec": {
   "display_name": ".venv",
   "language": "python",
   "name": "python3"
  },
  "language_info": {
   "codemirror_mode": {
    "name": "ipython",
    "version": 3
   },
   "file_extension": ".py",
   "mimetype": "text/x-python",
   "name": "python",
   "nbconvert_exporter": "python",
   "pygments_lexer": "ipython3",
   "version": "3.8.16"
  },
  "orig_nbformat": 4
 },
 "nbformat": 4,
 "nbformat_minor": 2
}
