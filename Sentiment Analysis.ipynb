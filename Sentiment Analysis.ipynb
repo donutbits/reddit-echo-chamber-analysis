{
 "cells": [
  {
   "attachments": {},
   "cell_type": "markdown",
   "metadata": {},
   "source": [
    "# Sentiment Analysis"
   ]
  },
  {
   "cell_type": "code",
   "execution_count": null,
   "metadata": {},
   "outputs": [],
   "source": [
    "from zst_reader import read_lines_zst, write_line_zst\n",
    "import json"
   ]
  },
  {
   "cell_type": "code",
   "execution_count": null,
   "metadata": {},
   "outputs": [],
   "source": [
    "subreddits = [\"Conservative\", \"progressive\",\n",
    "              \"democrats\", \"Republican\",\n",
    "              \"NeutralPolitics\", \"PoliticalDiscussion\", \"politics\"]"
   ]
  },
  {
   "cell_type": "code",
   "execution_count": null,
   "metadata": {},
   "outputs": [],
   "source": [
    "input_submissions = [f\"data/{s}/{s}_submissions_classified.zst\" for s in subreddits]\n",
    "input_sentiments = [f\"analysis/1d/{s}_comments_sentiment.zst\" for s in subreddits]"
   ]
  },
  {
   "cell_type": "code",
   "execution_count": 11,
   "metadata": {},
   "outputs": [],
   "source": [
    "input_sentiments = [f\"analysis/1d/{s}_submissions_overall_sentiment.zst\" for s in subreddits]"
   ]
  },
  {
   "cell_type": "code",
   "execution_count": null,
   "metadata": {},
   "outputs": [],
   "source": [
    "# Load the input_submissions data into a dictionary\n",
    "submissions = {}\n",
    "for subreddit, input_path in zip(subreddits, input_submissions):\n",
    "    submissions[subreddit] = {}\n",
    "    for line, file_bytes_processed in read_lines_zst(input_path):\n",
    "        obj = json.loads(line)\n",
    "\n",
    "        # Keep topic_dist, sentiment, and created_utc, num_comments"
   ]
  },
  {
   "cell_type": "code",
   "execution_count": 19,
   "metadata": {},
   "outputs": [],
   "source": [
    "output_overall_sentiment = [f\"data/{s}/{s}_comments_sentiment.zst\" for s in subreddits]"
   ]
  },
  {
   "cell_type": "code",
   "execution_count": 21,
   "metadata": {},
   "outputs": [
    {
     "name": "stdout",
     "output_type": "stream",
     "text": [
      "{'author': 'Fetch_1', 'created_utc': 1546329834, 'score': 8, 'ups': '', 'downs': '', 'controversiality': 1, 'gilded': 0, 'sentiment': -0.03736263736263734}\n",
      "{'author': 'Fetch_1', 'created_utc': 1546329879, 'score': 6, 'ups': '', 'downs': '', 'controversiality': 0, 'gilded': 0, 'sentiment': 0.09583333333333333}\n",
      "{'author': 'Milleroski', 'created_utc': 1546330675, 'score': 163, 'ups': '', 'downs': '', 'controversiality': 0, 'gilded': 0, 'sentiment': 0.0}\n",
      "{'author': 'Ung-Tik', 'created_utc': 1546331607, 'score': 25, 'ups': '', 'downs': '', 'controversiality': 0, 'gilded': 0, 'sentiment': 0.14285714285714285}\n",
      "{'author': 'steveoneill', 'created_utc': 1546331692, 'score': 8, 'ups': '', 'downs': '', 'controversiality': 0, 'gilded': 0, 'sentiment': 0.0}\n",
      "{'author': 'PoliticalJunkDrawer', 'created_utc': 1546332165, 'score': 6, 'ups': '', 'downs': '', 'controversiality': 0, 'gilded': 0, 'sentiment': 0.02333333333333336}\n",
      "{'author': 'superdmp', 'created_utc': 1546332298, 'score': 104, 'ups': '', 'downs': '', 'controversiality': 0, 'gilded': 0, 'sentiment': 0.0}\n",
      "{'author': 'MrNukedDuck', 'created_utc': 1546332511, 'score': 66, 'ups': '', 'downs': '', 'controversiality': 0, 'gilded': 0, 'sentiment': 0.3729166666666667}\n",
      "{'author': 'SickofInternetProgs', 'created_utc': 1546333712, 'score': 27, 'ups': '', 'downs': '', 'controversiality': 0, 'gilded': 0, 'sentiment': 0.0}\n",
      "{'author': 'davetn37', 'created_utc': 1546333727, 'score': 7, 'ups': '', 'downs': '', 'controversiality': 0, 'gilded': 0, 'sentiment': 0.0}\n",
      "{'author': 'BrighamYoung', 'created_utc': 1546333887, 'score': 7, 'ups': '', 'downs': '', 'controversiality': 0, 'gilded': 0, 'sentiment': -0.15}\n"
     ]
    }
   ],
   "source": [
    "# Read one sample line from input_submissions\n",
    "sub_sample = output_overall_sentiment[0]\n",
    "\n",
    "# Read one line\n",
    "count = 0\n",
    "for line, file_bytes_processed in read_lines_zst(sub_sample):\n",
    "    obj = json.loads(line)\n",
    "    print(obj)\n",
    "    count += 1\n",
    "    if count > 10: break"
   ]
  },
  {
   "cell_type": "code",
   "execution_count": 17,
   "metadata": {},
   "outputs": [
    {
     "name": "stdout",
     "output_type": "stream",
     "text": [
      "downs\n",
      "ups\n",
      "title\n",
      "num_comments\n",
      "created_utc\n",
      "selftext\n",
      "score\n",
      "topic_dist\n"
     ]
    }
   ],
   "source": [
    "for k in obj.keys():\n",
    "    print(k)"
   ]
  },
  {
   "cell_type": "code",
   "execution_count": 22,
   "metadata": {},
   "outputs": [
    {
     "name": "stdout",
     "output_type": "stream",
     "text": [
      "{'author': 'Fetch_1', 'created_utc': 1546329834, 'body': '1 People will die for not being able to afford healthcare The ACA as a law helps me to afford health insurance Its on the administration and congress to uphold the law of the land and not to directly sabotage legislation that helps millions of people get and afford health care 2 Climate is real and we are already seeing some effects of it Natural disasters are going to get worst and thats a fact and that we need to reduce our consumption of green house gasses Also investing and promoting different energy solutions and giving tax breaks to companies that do those things seems like smart legislation Innovation is where American thrives Have us perfect wind solar geothermal and nuclear energy and then sell the technology 4 Response to Hurricane Maria was bad Really bad the fact that the island didnt have power or medical supplies to aid those affected caused a lot of death', 'score': 8, 'ups': '', 'downs': '', 'controversiality': 1, 'gilded': 0}\n",
      "{'author': 'Fetch_1', 'created_utc': 1546329879, 'body': 'Conservate War hawks are also against the move to pull out of Syria Afghanistan and Iraq The pulling out of the war effort against ISIS in Syria and Iraq gives more leverage to Russia and the Assad Regime It also allows for Erogan to openly oppress Kurds even more so The reason that ISIS happened was because of a poorly planned and executed pull out and the installment of a biased leader in Maliki And the Afghanistan puzzle is trickier to figure out due to what Russia China and Pakistans goals are in that region The fact that Mattis resigned over these two decisions should give pause to what the situation is in those countries The question that we need to ask is what should our presence be how much soft power to we impose and how to respond to terrorism', 'score': 6, 'ups': '', 'downs': '', 'controversiality': 0, 'gilded': 0}\n",
      "{'author': '[deleted]', 'created_utc': 1546329952, 'body': 'removed', 'score': 2, 'ups': '', 'downs': '', 'controversiality': 1, 'gilded': 0}\n",
      "{'author': 'Fetch_1', 'created_utc': 1546330279, 'body': 'Asylum is an international law and statute that we as a democratic nation should follow Illegal crossings have down every year in the past decade The wall prevents nothing and is opposite of the Statue of Liberty Immigration needs to get updated from the 1980s and there needs to be more judges to dutifully process asylum cases for would be immigrants There os already a system for all visitors coming to the US called US VISIT which already gives us their ID data and runs people fo crime terrorism and other stuff', 'score': 2, 'ups': '', 'downs': '', 'controversiality': 0, 'gilded': 0}\n",
      "{'author': 'Natanyul', 'created_utc': 1546330286, 'body': 'Ive never heard anyone sincerely say that and I pray I never will but I probably will one of these days', 'score': 1, 'ups': '', 'downs': '', 'controversiality': 0, 'gilded': 0}\n",
      "{'author': '[deleted]', 'created_utc': 1546330447, 'body': 'deleted', 'score': 1, 'ups': '', 'downs': '', 'controversiality': 0, 'gilded': 0}\n",
      "{'author': 'HohlraumHe3', 'created_utc': 1546330520, 'body': 'You dont seem to know what that means When does human life get legal protection from the state and why?', 'score': 1, 'ups': '', 'downs': '', 'controversiality': 0, 'gilded': 0}\n",
      "{'author': '[deleted]', 'created_utc': 1546330560, 'body': 'deleted', 'score': 4, 'ups': '', 'downs': '', 'controversiality': 0, 'gilded': 0}\n",
      "{'author': '[deleted]', 'created_utc': 1546330579, 'body': 'removed', 'score': 1, 'ups': '', 'downs': '', 'controversiality': 0, 'gilded': 0}\n",
      "{'author': '[deleted]', 'created_utc': 1546330601, 'body': 'removed', 'score': 1, 'ups': '', 'downs': '', 'controversiality': 0, 'gilded': 0}\n",
      "{'author': '[deleted]', 'created_utc': 1546330624, 'body': 'removed', 'score': 1, 'ups': '', 'downs': '', 'controversiality': 0, 'gilded': 0}\n"
     ]
    }
   ],
   "source": [
    "input_comments = [f\"data/{s}/{s}_comments_clean.zst\" for s in subreddits]\n",
    "count = 0\n",
    "for line, file_bytes_processed in read_lines_zst(input_comments[0]):\n",
    "    obj = json.loads(line)\n",
    "    print(obj)\n",
    "    count += 1\n",
    "    if count > 10: break"
   ]
  },
  {
   "cell_type": "code",
   "execution_count": 23,
   "metadata": {},
   "outputs": [
    {
     "name": "stdout",
     "output_type": "stream",
     "text": [
      "{'link_id': 't3_abegnh', 'author': 'Fetch_1', 'created_utc': 1546329834, 'body': \"1. People will die for not being able to afford healthcare. The ACA as a law helps me to afford health insurance. Its on the administration and congress to uphold the law of the land and not to directly sabotage legislation that helps millions of people get and afford health care.\\n2. Climate is real and we are already seeing some effects of it. Natural disasters are going to get worst and that's a fact and that we need to reduce our consumption of green house gasses. Also investing and promoting different energy solutions and giving tax breaks to companies that do those things seems like smart legislation. Innovation is where American thrives. Have us perfect wind, solar, geothermal, and nuclear energy and then sell the technology.\\n4. Response to Hurricane Maria was bad. Really bad, the fact that the island didnt have power or medical supplies to aid those affected caused a lot of death.\", 'score': 8, 'ups': '', 'downs': '', 'controversiality': 1, 'gilded': 0}\n",
      "{'link_id': 't3_abb5xu', 'author': 'Fetch_1', 'created_utc': 1546329879, 'body': \"Conservate War hawks are also against the move to pull out of Syria, Afghanistan, and Iraq. The pulling out of the war effort against ISIS in Syria and Iraq gives more leverage to Russia and the Assad Regime. It also allows for Erogan to openly oppress Kurds even more so. The reason that ISIS happened was because of a poorly planned and executed pull out and the installment of a biased leader in Maliki. And the Afghanistan puzzle is trickier to figure out due to what Russia, China, and Pakistan's goals are in that region. The fact that Mattis resigned over these two decisions should give pause to what the situation is in those countries. The question that we need to ask is what should our presence be, how much soft power to we impose, and how to respond to terrorism.\", 'score': 6, 'ups': '', 'downs': '', 'controversiality': 0, 'gilded': 0}\n",
      "{'link_id': 't3_ab7sah', 'author': '[deleted]', 'created_utc': 1546329952, 'body': '[removed]', 'score': 2, 'ups': '', 'downs': '', 'controversiality': 1, 'gilded': 0}\n",
      "{'link_id': 't3_ab7pfs', 'author': 'Fetch_1', 'created_utc': 1546330279, 'body': 'Asylum is an international law and statute that we as a democratic nation should follow. Illegal crossings have down every year in the past decade. The wall prevents nothing and is opposite of the Statue of Liberty. Immigration needs to get updated from the 1980s and there needs to be more judges to dutifully process asylum cases for would be immigrants. There os already a system for all visitors coming to the US called US VISIT which already gives us their ID data and runs people fo crime, terrorism, and other stuff. ', 'score': 2, 'ups': '', 'downs': '', 'controversiality': 0, 'gilded': 0}\n",
      "{'link_id': 't3_abccnk', 'author': 'Natanyul', 'created_utc': 1546330286, 'body': \"I've never heard anyone sincerely say that and I pray I never will, but I probably will one of these days\", 'score': 1, 'ups': '', 'downs': '', 'controversiality': 0, 'gilded': 0}\n",
      "{'link_id': 't3_ab7aq3', 'author': 'HohlraumHe3', 'created_utc': 1546330520, 'body': \"You don't seem to know what that means. When does human life get legal protection from the state and why?\", 'score': 1, 'ups': '', 'downs': '', 'controversiality': 0, 'gilded': 0}\n",
      "{'link_id': 't3_abfy7x', 'author': '[deleted]', 'created_utc': 1546330579, 'body': '[removed]', 'score': 1, 'ups': '', 'downs': '', 'controversiality': 0, 'gilded': 0}\n",
      "{'link_id': 't3_abb5xu', 'author': '[deleted]', 'created_utc': 1546330601, 'body': '[removed]', 'score': 1, 'ups': '', 'downs': '', 'controversiality': 0, 'gilded': 0}\n",
      "{'link_id': 't3_abfy7x', 'author': '[deleted]', 'created_utc': 1546330624, 'body': '[removed]', 'score': 1, 'ups': '', 'downs': '', 'controversiality': 0, 'gilded': 0}\n",
      "{'link_id': 't3_abfy7x', 'author': 'Milleroski', 'created_utc': 1546330675, 'body': 'I’ll miss her and Mattis the most, but hopefully will see them in the future in politics again.', 'score': 163, 'ups': '', 'downs': '', 'controversiality': 0, 'gilded': 0}\n",
      "{'link_id': 't3_abfmtl', 'author': 'snow_ninja', 'created_utc': 1546330726, 'body': 'This hag is really going to run again isn’t she 😂', 'score': 5, 'ups': '', 'downs': '', 'controversiality': 0, 'gilded': 0}\n"
     ]
    }
   ],
   "source": [
    "input_comments = [f\"data/{s}/{s}_comments_subset.zst\" for s in subreddits]\n",
    "count = 0\n",
    "for line, file_bytes_processed in read_lines_zst(input_comments[0]):\n",
    "    obj = json.loads(line)\n",
    "    print(obj)\n",
    "    count += 1\n",
    "    if count > 10: break"
   ]
  },
  {
   "cell_type": "code",
   "execution_count": 14,
   "metadata": {},
   "outputs": [
    {
     "data": {
      "text/plain": [
       "'analysis/1d/Conservative_submissions_overall_sentiment.zst'"
      ]
     },
     "execution_count": 14,
     "metadata": {},
     "output_type": "execute_result"
    }
   ],
   "source": [
    "sub_sample"
   ]
  },
  {
   "cell_type": "code",
   "execution_count": 28,
   "metadata": {},
   "outputs": [],
   "source": [
    "# Import library that contains TextBlob\n",
    "from textblob import TextBlob\n",
    "import json, zstandard"
   ]
  },
  {
   "cell_type": "code",
   "execution_count": 33,
   "metadata": {},
   "outputs": [],
   "source": [
    "# Function to add the sentiment of the comments in a submission\n",
    "def add_sentiment_comments(input_comments: list, output_comments: list) ->  None:\n",
    "    \"\"\"Add the sentiment of the comments in a submission\"\"\"\n",
    "\n",
    "    # Loop through input paths\n",
    "    for in_comment, out_comment in zip(input_comments, output_comments):\n",
    "\n",
    "        # Create the zst handler\n",
    "        handle = zstandard.ZstdCompressor().stream_writer(open(out_comment, 'wb'))\n",
    "\n",
    "        # Save the data to zst file\n",
    "        with open(out_comment, mode=\"w\", newline=\"\") as file:\n",
    "\n",
    "            for line, file_bytes_processed in read_lines_zst(in_comment):\n",
    "                obj = json.loads(line)\n",
    "\n",
    "                # Skip if body doesn't exist\n",
    "                if 'body' not in obj:\n",
    "                    continue\n",
    "\n",
    "                # Get body of comment\n",
    "                body = obj['body']\n",
    "\n",
    "                # Skip if body is deleted or removed\n",
    "                if (body == '[deleted]') or (body == '[removed]'):\n",
    "                    continue\n",
    "\n",
    "                # Skip if score or ups+downs is too low\n",
    "                if 'score' in obj:\n",
    "                    try: score = int(obj['score'])\n",
    "                    except: score = 0\n",
    "                    if score <= 5: continue\n",
    "                else:\n",
    "                    ups = obj.get('ups',0)\n",
    "                    try: ups = int(ups)\n",
    "                    except: ups = 0\n",
    "                    downs = obj.get('downs',0)\n",
    "                    try: downs = int(downs)\n",
    "                    except: downs = 0\n",
    "                    if (ups-downs) <= 5: continue\n",
    "\n",
    "                # Get sentiment of body\n",
    "                sentiment = TextBlob(body).sentiment.polarity\n",
    "\n",
    "                # Add sentiment to object\n",
    "                obj['sentiment'] = sentiment\n",
    "\n",
    "                # Remove body\n",
    "                del obj['body']\n",
    "\n",
    "                # If link_id is missing, skip\n",
    "                if 'link_id' not in obj:\n",
    "                    continue\n",
    "\n",
    "                # From link_id, keep only the characters after the underscore\n",
    "                obj['link_id'] = obj['link_id'].split('_')[-1]\n",
    "\n",
    "                # Write the data to the zst file\n",
    "                new_line = json.dumps(obj)\n",
    "                write_line_zst(handle, new_line)\n",
    "    \n",
    "    return"
   ]
  },
  {
   "cell_type": "code",
   "execution_count": 35,
   "metadata": {},
   "outputs": [],
   "source": [
    "# Create input and output paths\n",
    "input_comments = [f\"data/{s}/{s}_comments_clean.zst\" for s in subreddits]\n",
    "output_comments = [f\"analysis/sentiment/{s}_comments_sentiment.zst\" for s in subreddits]\n",
    "\n",
    "# Add sentiment to comments\n",
    "add_sentiment_comments(input_comments, output_comments)\n"
   ]
  },
  {
   "cell_type": "code",
   "execution_count": 40,
   "metadata": {},
   "outputs": [],
   "source": [
    "output_submissions = [f\"data/{s}/{s}_submissions_clean.zst\" for s in subreddits] # [f\"data/{s}/{s}_submissions_classified.zst\" for s in subreddits]"
   ]
  },
  {
   "cell_type": "code",
   "execution_count": 41,
   "metadata": {},
   "outputs": [
    {
     "name": "stdout",
     "output_type": "stream",
     "text": [
      "{'id': 'acr5wl', 'author': 'NakedAndBehindYou', 'downs': '', 'ups': '', 'title': 'Trump is right He can declare a national emergency to build the wall and it is 100 legal and already authorized', 'num_comments': 123, 'created_utc': 1546665929, 'selftext': 'The details 1 Decades ago Congress gave the Secretary of Defense the power to use military construction funds to build anything he wants if the President first declares a national emergency 2 The President can declare a national emergency for any reason 3 The 2019 budget for military construction is 103B This budget is already funded by Congress Now the military is probably already planning on using those funds for other purposes But if Trump really wanted to he could declare a national emergency and direct the military to spend all 103B of it on building his wall Trump has thus already won the fight over the wall funding but is just negotiating with Democrats because he doesnt want to screw over the military by taking away their construction budget which they need for other things Also the optics of using military funding to build the wall are questionable But his authority to do so are not', 'score': 366, 'link_id': ''}\n",
      "{'id': 'acytpe', 'author': 'MyLittleGrowRoom', 'downs': '', 'ups': '', 'title': 'When does the rest of the government shut down?', 'num_comments': 11, 'created_utc': 1546725664, 'selftext': 'Right now were under a partial shutdown because the CR only funded part of the government when is the next CR ending? How long would this have to continue for a total shutdown?', 'score': 13, 'link_id': ''}\n",
      "{'id': 'acz5ts', 'author': 'UnsoberTilOctober', 'downs': '', 'ups': '', 'title': 'Try out DuckDuckGo', 'num_comments': 49, 'created_utc': 1546727816, 'selftext': 'I no longer use google for over a year Ive been tired of the blatant bias towards the left as well as not having as much privacy finally a few months ago I switched over to DuckDuckGo Its more private and has a more neutral search engine The best part is if enough of us do it its a slap in the face to Google', 'score': 198, 'link_id': ''}\n",
      "{'id': 'ad6tm5', 'author': 'Rightquercusalba', 'downs': '', 'ups': '', 'title': 'The media is hyping up their new darling Alexandria OcasioCortez Dont fall into the trap of thinking she will go away if we ignore her They will manufacture hype and drama with or without us', 'num_comments': 12, 'created_utc': 1546790914, 'selftext': 'AnonymousQ1776 Look at this account on Twitter This is the so called conservative that posted the video of Cortez dancing and the media blew it up as an example of standard right wing attacks on women Now back to the account that was created on January 3rd The dancing tweet was posted on January 4th Now go look at the media headlines that followed her response They are gushing over her response and her supporters gtAlexandria OcasioCortez is welcomed into Breakfast Club by the movies stars after dancing video gtOcasioCortezs college dance video has now been set to all your favorite songs gtI hear the GOP thinks women dancing is scandalous Alexandria OcasioCortez hits back at conservative critics with ANOTHER playful video filmed outside her new Capitol Hill office gtOcasioCortez laughs off dance attack These are just a few headlines I pulled The media is willing to prop her up using any means necessary All they need are anonymous Twitter posts Whats stopping people supporting or connected to AOC posting these types of things on Twitter so they can get videos to go viral? Everything critical of her will be an attack and every response of hers will be portrayed as a strong woman defending herself or a playful Ocasio brushing off the petty attacks of conservatives and wowing her fans with clever comebacks on social media You hate me cus you aint me!', 'score': 23, 'link_id': ''}\n",
      "{'id': 'adben7', 'author': 'jinrocker', 'downs': '', 'ups': '', 'title': 'Help me decide Daily Wire or Mug Club', 'num_comments': 20, 'created_utc': 1546817947, 'selftext': 'Now that it is after the holiday I am looking to purchase a years subscription to either The Daily Wire or Mug Club I plan on getting both but I will have to wait until I can afford the other one after taxes are filed In short which would you recommend more? Which have you found the most value out of and which do you think my wife and I would be able to enjoy most? Thanks in advance Edit Thanks for the input It looks like The Leftist Tears Tumbler won out Ill wait a few days to make my final call Appreciate any more feed back in that time', 'score': 15, 'link_id': ''}\n",
      "{'id': 'adj3o0', 'author': 'bxnziez', 'downs': '', 'ups': '', 'title': 'Am I the only conservative whos not religious?', 'num_comments': 33, 'created_utc': 1546877297, 'selftext': 'I feel like this is kinda weird but it seems most conservatives are very religious It seems like the dominating religions are catholic and Christian I have almost the same views as most conservatives but am not into religion at all Is that out of the ordinary or are there other people out there like me?', 'score': 44, 'link_id': ''}\n",
      "{'id': 'adm2yr', 'author': 'Tobogonator', 'downs': '', 'ups': '', 'title': 'Abortion in Ireland', 'num_comments': 40, 'created_utc': 1546894302, 'selftext': 'Hi all As some of you may know abortions in Ireland have been passed under the house of commons I find this a depressing day in Irish history as we held out for so long I was debating people in the subreddit and unfortunately most people there are in complete agreement with it and it saddens me I debated many people most denied the premise that it is murder and personally attacked me but acted oppressed when i finally retaliated which i know i shouldnt have I know reddit in general is a leftist platform and most in this subreddit seemed like atheists While the majority of Irish people are neither I was wondering if any of you guys can give me any advice on debating this issue Furthermore i dont suppose anyone here is Irish or of Irish decent Thanks in advamce for the advice', 'score': 13, 'link_id': ''}\n",
      "{'id': 'adn90r', 'author': 'ZoomyTheCar', 'downs': '', 'ups': '', 'title': 'If recent Ruth Bader Ginsburg court votes and opinions are a Weekend At Bernies fraud is there any mechanism to deal with that?', 'num_comments': 7, 'created_utc': 1546900872, 'selftext': 'This is something that hasnt really been discussed but it should be brought up considering the fact this 86 year old woman was allegedly working from her hospital room and considering extremely complex legal issues with an entirely sound mind issuing legal opinions and rulings days after invasive lung cancer surgery I guess were not supposed to suspect that maybe she wasis probably out of it due to being elderly heavily medicated and seriously ill Should we be questioning whether her army of legal assistants are basically impersonating her at this point and just getting her to sign off on things? Is there even a sound mind test for a Supreme Court judge?', 'score': 15, 'link_id': ''}\n",
      "{'id': 'adortw', 'author': 'tehForce', 'downs': '', 'ups': '', 'title': 'Trump Will Address The Border Crisis at 9pm Discussion Thread', 'num_comments': 25, 'created_utc': 1546910077, 'selftext': 'Its set to be an approximately 8 minute long statement Edit A day early Tuesday January 8th 9pm EDT', 'score': 51, 'link_id': ''}\n",
      "{'id': 'adp531', 'author': 'TBTop', 'downs': '', 'ups': '', 'title': 'Meaning of Well Regulated Militia', 'num_comments': 12, 'created_utc': 1546912479, 'selftext': 'To the extent that the gun control supporters go from the emotional to the intellectual such as it is they will often point to the beginning of the 2nd amendment as an endorsement of gun control They are making a basic error which is that in 1791 when the Bill of Rights were ratified regulated didnt refer to government regulation Wellregulated meant welloperated Mechanical controls including clocks were often referred to as regulators and so were procedures and operating rules that governed organizations and their processes Thus a wellregulated militia meant a militia that was in good working order Now what was the militia? The answer is All free adult males Thus for the militia to be wellregulated meaning in good working order the right of the people to keep and bear arms must not be infringed If it were infringed then the militia couldnt be in good working order because it might be not armed to begin with This amendment wasnt enacted in a vacuum It was passed at the end of a long and brutal war for independence part of which was a civil war between patriots and loyalists In that war the British tried and failed to disarm the colonists The drafters of the second amendment had this in the front of their minds when they wrote the language It seems awkward today because it misses some connector words that would be included in modern syntax and because regulated has taken on a different meaning as government has taken on more activities Still we have to look at the text of the 2nd and its meaning when written When it was written well regulated had nothing whatsoever to do with government regulation It referred to a wellfunctioning militia which consisted of at the time the entire male population who werent slaves The 13th and 14th amendments removed the slavery issue and changes in the role of women and many court decisions surrounding it have expanded the militia to include all adult women Bottom line? Gun controllers you got it wrong about what the 2nd amendments language means', 'score': 17, 'link_id': ''}\n",
      "{'id': 'adu7y1', 'author': 'optionhome', 'downs': '', 'ups': '', 'title': 'If you are the MSM how would you play it tonight?', 'num_comments': 6, 'created_utc': 1546954356, 'selftext': 'Do you have a DNC politician give a response? Do you just bring in the talking heads to immediately lie about what Trump just said? Do you interrupt more of your supposed valuable network time to allow the politician to speak first and then just have the lying talking heads agree with what the dem says? What is their best play to keep the uninformed about whats really going on as clueless as before Trump lays out the facts?', 'score': 11, 'link_id': ''}\n"
     ]
    }
   ],
   "source": [
    "# Print one line from the output_submissions\n",
    "sub_sample = output_submissions[0]\n",
    "count = 0\n",
    "for line, file_bytes_processed in read_lines_zst(sub_sample):\n",
    "    obj = json.loads(line)\n",
    "    print(obj)\n",
    "    count += 1\n",
    "    if count > 10: break"
   ]
  },
  {
   "attachments": {},
   "cell_type": "markdown",
   "metadata": {},
   "source": [
    "### Add sentiment to comments"
   ]
  },
  {
   "cell_type": "code",
   "execution_count": 70,
   "metadata": {},
   "outputs": [],
   "source": [
    "# Load NRC emotion lexicon from NRC-Emotion.txt\n",
    "nrc = {}\n",
    "with open('NRC-Emotion.txt', 'r') as f:\n",
    "    for line in f:\n",
    "        words, emotion, value = line.strip().split('\\t')\n",
    "\n",
    "        # Replace - with spaces\n",
    "        words = words.replace('-', ' ').replace(\",\", ' ').replace(\"  \", \" \")\n",
    "\n",
    "        # Break words into a list of words\n",
    "        words = words.split(' ')\n",
    "\n",
    "        for word in words:\n",
    "            if word not in nrc.keys():\n",
    "                nrc[word] = {}\n",
    "            nrc[word][emotion] = int(value)\n",
    "\n",
    "# Save nrc to a json file as lexicon_clean.json\n",
    "with open('lexicon_clean.json', 'w') as f:\n",
    "    json.dump(nrc, f)"
   ]
  },
  {
   "cell_type": "code",
   "execution_count": 54,
   "metadata": {},
   "outputs": [],
   "source": [
    "# Import library that contains TextBlob\n",
    "from textblob import TextBlob\n"
   ]
  },
  {
   "cell_type": "code",
   "execution_count": 85,
   "metadata": {},
   "outputs": [],
   "source": [
    "# Function to add the sentiment of the comments in a submission\n",
    "def add_sentiment_comments(input_comments: list, output_comments: list, lexicon: dict) ->  None:\n",
    "    \"\"\"Add the sentiment of the comments in a submission\"\"\"\n",
    "\n",
    "    # Loop through input paths\n",
    "    for in_comment, out_comment in zip(input_comments, output_comments):\n",
    "\n",
    "        # Create the zst handler\n",
    "        handle = zstandard.ZstdCompressor().stream_writer(open(out_comment, 'wb'))\n",
    "\n",
    "        # Save the data to zst file\n",
    "        with open(out_comment, mode=\"w\", newline=\"\") as file:\n",
    "\n",
    "            for line, file_bytes_processed in read_lines_zst(in_comment):\n",
    "                obj = json.loads(line)\n",
    "\n",
    "                # Skip if body doesn't exist\n",
    "                if 'body' not in obj:\n",
    "                    continue\n",
    "\n",
    "                # Get body of comment\n",
    "                body = obj['body']\n",
    "\n",
    "                # Skip if body is deleted or removed\n",
    "                if (body == '[deleted]') or (body == '[removed]'):\n",
    "                    continue\n",
    "\n",
    "                # Skip if score or ups+downs is too low\n",
    "                if 'score' in obj:\n",
    "                    try: score = int(obj['score'])\n",
    "                    except: score = 0\n",
    "                    if score <= 5: continue\n",
    "                else:\n",
    "                    ups = obj.get('ups',0)\n",
    "                    try: ups = int(ups)\n",
    "                    except: ups = 0\n",
    "                    downs = obj.get('downs',0)\n",
    "                    try: downs = int(downs)\n",
    "                    except: downs = 0\n",
    "                    if (ups-downs) <= 5: continue\n",
    "\n",
    "                # Get polarity and subjectivity of body\n",
    "                polarity = TextBlob(body).sentiment.polarity\n",
    "                subjectivity = TextBlob(body).sentiment.subjectivity\n",
    "\n",
    "                # Calculate emotions in the comment using NRC emotion lexicon\n",
    "                emotions = {'fear': 0, 'anger': 0, 'anticip': 0, 'trust': 0,\n",
    "                            'surprise': 0, 'sadness': 0, 'joy': 0, 'disgust': 0,\n",
    "                            'positive': 0, 'negative': 0}\n",
    "                for word in body.split():\n",
    "                    if word in nrc_lexicon.keys():\n",
    "                        for emotion in nrc_lexicon[word].keys():\n",
    "                            emotions[emotion] = emotions.get(emotion, 0) + nrc_lexicon[word][emotion]\n",
    "\n",
    "                # Add sentiment and emotion to object\n",
    "                obj['polarity'] = polarity\n",
    "                obj['subjectivity'] = subjectivity\n",
    "                obj['emotions'] = emotions\n",
    "\n",
    "                # Remove body\n",
    "                del obj['body']\n",
    "\n",
    "                # Write the data to the zst file\n",
    "                new_line = json.dumps(obj)\n",
    "\n",
    "                write_line_zst(handle, new_line)\n",
    "    \n",
    "    return"
   ]
  },
  {
   "cell_type": "code",
   "execution_count": 83,
   "metadata": {},
   "outputs": [],
   "source": [
    "# Load nrc_lexicon\n",
    "nrc_lexicon = json.load(open('lexicon_clean.json', 'r'))"
   ]
  },
  {
   "cell_type": "code",
   "execution_count": 86,
   "metadata": {},
   "outputs": [],
   "source": [
    "# Create input and output paths\n",
    "input_comments = [f\"data/{s}/{s}_comments_clean.zst\" for s in subreddits]\n",
    "output_comments = [f\"data/{s}/{s}_comments_sentiment.zst\" for s in subreddits]\n",
    "\n",
    "# Add sentiment to comments\n",
    "add_sentiment_comments(input_comments, output_comments, nrc_lexicon)\n"
   ]
  },
  {
   "cell_type": "code",
   "execution_count": null,
   "metadata": {},
   "outputs": [],
   "source": []
  }
 ],
 "metadata": {
  "kernelspec": {
   "display_name": ".venv",
   "language": "python",
   "name": "python3"
  },
  "language_info": {
   "codemirror_mode": {
    "name": "ipython",
    "version": 3
   },
   "file_extension": ".py",
   "mimetype": "text/x-python",
   "name": "python",
   "nbconvert_exporter": "python",
   "pygments_lexer": "ipython3",
   "version": "3.8.16"
  },
  "orig_nbformat": 4
 },
 "nbformat": 4,
 "nbformat_minor": 2
}
