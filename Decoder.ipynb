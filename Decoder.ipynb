{
 "cells": [
  {
   "cell_type": "code",
   "execution_count": 1,
   "metadata": {},
   "outputs": [],
   "source": [
    "subreddits = [\"Conservative\", \"progressive\",\n",
    "                \"democrats\", \"Republican\",\n",
    "                \"NeutralPolitics\", \"PoliticalDiscussion\", \"politics\"]"
   ]
  },
  {
   "cell_type": "code",
   "execution_count": 2,
   "metadata": {},
   "outputs": [],
   "source": [
    "from collections import defaultdict\n",
    "from datetime import datetime\n",
    "from zst_reader import read_lines_zst, write_line_zst\n",
    "import json, os, re, zstandard"
   ]
  },
  {
   "attachments": {},
   "cell_type": "markdown",
   "metadata": {},
   "source": [
    "### Get users"
   ]
  },
  {
   "cell_type": "code",
   "execution_count": null,
   "metadata": {},
   "outputs": [],
   "source": [
    "def find_unique_keys(input_path: str):\n",
    "\n",
    "    # a set of all the unique keys\n",
    "    unique_keys = set()\n",
    "\n",
    "    # read the file line by line\n",
    "    for line, file_bytes_processed in read_lines_zst(input_path):\n",
    "        obj = json.loads(line)\n",
    "        keys = obj.keys()\n",
    "        unique_keys.update(keys)\n",
    "\n",
    "    return unique_keys\n",
    "\n",
    "    \n",
    "def write_to_csv(input_path: str,\n",
    "                 output_path: str,\n",
    "                 columns: list=None,\n",
    "                 start_date: datetime=None,\n",
    "                 end_date: datetime=None):\n",
    "\n",
    "    # find the unique keys\n",
    "    if columns is None:\n",
    "        print(\"Finding unique keys...\")\n",
    "        columns = find_unique_keys(input_path)\n",
    "\n",
    "    # Create the csv file and write the header\n",
    "    print(\"Writing to csv file...\")\n",
    "    with open(output_path, mode=\"w\", newline=\"\") as file:\n",
    "        writer = csv.writer(file)\n",
    "        writer.writerow(columns)\n",
    "\n",
    "    # Save the data to the csv file\n",
    "    with open(output_path, mode=\"a\", newline=\"\") as file:\n",
    "        writer = csv.writer(file)\n",
    "        for line, file_bytes_processed in read_lines_zst(input_path):\n",
    "            obj = json.loads(line)\n",
    "\n",
    "            # Filter out comments that don't have a created_utc field\n",
    "            if \"created_utc\" not in obj:\n",
    "                continue\n",
    "            created_utc = datetime.fromtimestamp(int(obj[\"created_utc\"]))\n",
    "            \n",
    "            # Filter by date\n",
    "            if start_date is not None:\n",
    "                if created_utc < start_date:\n",
    "                    continue\n",
    "            if end_date is not None:\n",
    "                if created_utc > end_date:\n",
    "                    continue\n",
    "            \n",
    "            # Write the data to the csv file\n",
    "            values = [obj.get(key, \"\") for key in columns]\n",
    "            writer.writerow(values)\n",
    "    \n",
    "    print(f\"Data written to {output_path}\")\n",
    "\n",
    "    return\n"
   ]
  },
  {
   "cell_type": "code",
   "execution_count": null,
   "metadata": {},
   "outputs": [],
   "source": [
    "for subreddit in subreddits:\n",
    "    print(f\"Writing {subreddit} comments...\")\n",
    "    write_to_csv(f\"data/{subreddit}/{subreddit}_comments.zst\",\n",
    "                 f\"data/{subreddit}/{subreddit}_comments_users.csv\",\n",
    "                 col_comments,\n",
    "                 start_date,\n",
    "                 end_date)"
   ]
  },
  {
   "attachments": {},
   "cell_type": "markdown",
   "metadata": {},
   "source": [
    "### Clean Submissions"
   ]
  },
  {
   "cell_type": "code",
   "execution_count": 3,
   "metadata": {},
   "outputs": [],
   "source": [
    "def clean_text(body: str):\n",
    "    '''Clean the body text'''\n",
    "\n",
    "    # Remove newlines\n",
    "    body = body.replace(\"\\n\", \" \")\n",
    "\n",
    "    # Remove URLs\n",
    "    body = re.sub(r\"http\\S+\", \"\", body)\n",
    "\n",
    "    # Remove markdown\n",
    "    body = re.sub(r\"\\[(.*?)\\]\\((.*?)\\)\", r\"\\1\", body)\n",
    "\n",
    "    # Remove HTML\n",
    "    body = re.sub(r\"<(.*?)>\", \"\", body)\n",
    "\n",
    "    # Remove emojis\n",
    "    body = re.sub(r\":[^:\\s]*(?:::[^:\\s]*)*:\", \"\", body)\n",
    "\n",
    "    # Remove subreddit mentions\n",
    "    body = re.sub(r\"\\/?r\\/\\w+\", \"\", body)\n",
    "    \n",
    "    # Remove special characters (except for spaces and exclamation marks)\n",
    "    body = re.sub(r\"[^a-zA-Z0-9!? ]\", \"\", body)\n",
    "\n",
    "    # Remove extra spaces\n",
    "    body = re.sub(r\"\\s+\", \" \", body)\n",
    "\n",
    "    # Remove leading and trailing spaces\n",
    "    body = body.strip()\n",
    "\n",
    "    return body"
   ]
  },
  {
   "cell_type": "code",
   "execution_count": 18,
   "metadata": {},
   "outputs": [],
   "source": [
    "def clean_submissions(input_path: str,\n",
    "                      output_path: str,\n",
    "                      cols: list):\n",
    "\n",
    "    # Create the zst handler\n",
    "    handle = zstandard.ZstdCompressor().stream_writer(open(output_path, 'wb'))\n",
    "\n",
    "    # Save the data to zst file\n",
    "    with open(output_path, mode=\"w\", newline=\"\") as file:\n",
    "\n",
    "        for line, file_bytes_processed in read_lines_zst(input_path):\n",
    "\n",
    "            # Convert the line to a json object\n",
    "            obj = json.loads(line)\n",
    "\n",
    "            # Filter out submissions that don't have a created_utc field or selftext\n",
    "            if obj[\"created_utc\"] == \"\": continue\n",
    "            if obj[\"selftext\"] == \"\" or obj[\"selftext\"] == \"[deleted]\": continue\n",
    "            if obj[\"title\"] == \"\": continue\n",
    "            \n",
    "            # If score less than 5, skip (remove low quality posts)\n",
    "            try:\n",
    "                if abs(int(obj[\"score\"])) < 1:\n",
    "                    continue\n",
    "            except:\n",
    "                score = 0\n",
    "\n",
    "            # If num_comments less than 5, skip (remove low quality posts)\n",
    "            try:\n",
    "                if int(obj[\"num_comments\"]) < 1:\n",
    "                    continue\n",
    "            except:\n",
    "                num_comments = 0\n",
    "\n",
    "            # Clean the text in each column\n",
    "            for col in cols:\n",
    "                text = clean_text(obj[col])\n",
    "                if text == \"\": continue\n",
    "                obj[col] = text\n",
    "            \n",
    "            # Write the data to the zst file\n",
    "            line_clean = json.dumps(obj)\n",
    "            write_line_zst(handle, line_clean)\n",
    "    \n",
    "    print(f\"Data written to {output_path}\")\n",
    "\n",
    "    return"
   ]
  },
  {
   "cell_type": "code",
   "execution_count": 19,
   "metadata": {},
   "outputs": [
    {
     "name": "stdout",
     "output_type": "stream",
     "text": [
      "Data written to data/progressive/progressive_submissions_clean.zst\n"
     ]
    }
   ],
   "source": [
    "for subreddit in ['progressive']: #subreddits:\n",
    "\n",
    "    file = f\"data/{subreddit}/{subreddit}_submissions_subset.zst\"\n",
    "    output = f\"data/{subreddit}/{subreddit}_submissions_clean.zst\"\n",
    "\n",
    "    clean_submissions(file, output, [\"title\", \"selftext\"])\n",
    "    "
   ]
  },
  {
   "attachments": {},
   "cell_type": "markdown",
   "metadata": {},
   "source": [
    "### Clean comments"
   ]
  },
  {
   "cell_type": "code",
   "execution_count": 5,
   "metadata": {},
   "outputs": [],
   "source": [
    "def clean_comments(input_path: str,\n",
    "                   output_path: str):\n",
    "\n",
    "    # Create the zst handler\n",
    "    handle = zstandard.ZstdCompressor().stream_writer(open(output_path, 'wb'))\n",
    "\n",
    "    # Save the data to zst file\n",
    "    with open(output_path, mode=\"w\", newline=\"\") as file:\n",
    "\n",
    "        for line, file_bytes_processed in read_lines_zst(input_path):\n",
    "\n",
    "            # Convert the line to a json object\n",
    "            obj = json.loads(line)\n",
    "            text = obj[\"body\"]\n",
    "\n",
    "            # Filter out comments without a body\n",
    "            if text == \"[deleted]\" or text == \"[removed]\":\n",
    "                continue\n",
    "\n",
    "            # Clean the text in each column\n",
    "            text = clean_text(text)\n",
    "            if text == \"\": continue\n",
    "            obj[\"body\"] = text\n",
    "            \n",
    "            # Write the data to the zst file\n",
    "            line_clean = json.dumps(obj)\n",
    "            write_line_zst(handle, line_clean)\n",
    "    \n",
    "    print(f\"Data written to {output_path}\")\n",
    "\n",
    "    return"
   ]
  },
  {
   "cell_type": "code",
   "execution_count": 6,
   "metadata": {},
   "outputs": [
    {
     "name": "stdout",
     "output_type": "stream",
     "text": [
      "Data written to data/Conservative/Conservative_comments_clean.zst\n",
      "Data written to data/progressive/progressive_comments_clean.zst\n",
      "Data written to data/democrats/democrats_comments_clean.zst\n",
      "Data written to data/Republican/Republican_comments_clean.zst\n",
      "Data written to data/NeutralPolitics/NeutralPolitics_comments_clean.zst\n",
      "Data written to data/PoliticalDiscussion/PoliticalDiscussion_comments_clean.zst\n",
      "Data written to data/politics/politics_comments_clean.zst\n"
     ]
    }
   ],
   "source": [
    "for subreddit in subreddits:\n",
    "\n",
    "    input_comments = f\"data/{subreddit}/{subreddit}_comments_subset.zst\"\n",
    "    output_comments = f\"data/{subreddit}/{subreddit}_comments_clean.zst\"\n",
    "\n",
    "    clean_comments(input_comments, output_comments)"
   ]
  },
  {
   "cell_type": "code",
   "execution_count": null,
   "metadata": {},
   "outputs": [],
   "source": []
  }
 ],
 "metadata": {
  "kernelspec": {
   "display_name": ".venv",
   "language": "python",
   "name": "python3"
  },
  "language_info": {
   "codemirror_mode": {
    "name": "ipython",
    "version": 3
   },
   "file_extension": ".py",
   "mimetype": "text/x-python",
   "name": "python",
   "nbconvert_exporter": "python",
   "pygments_lexer": "ipython3",
   "version": "3.8.16"
  },
  "orig_nbformat": 4
 },
 "nbformat": 4,
 "nbformat_minor": 2
}
